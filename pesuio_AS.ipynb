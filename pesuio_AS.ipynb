{
  "nbformat": 4,
  "nbformat_minor": 0,
  "metadata": {
    "colab": {
      "provenance": [],
      "authorship_tag": "ABX9TyMtBUcJ+Q4BMG/g6omYITkU",
      "include_colab_link": true
    },
    "kernelspec": {
      "name": "python3",
      "display_name": "Python 3"
    },
    "language_info": {
      "name": "python"
    }
  },
  "cells": [
    {
      "cell_type": "markdown",
      "metadata": {
        "id": "view-in-github",
        "colab_type": "text"
      },
      "source": [
        "<a href=\"https://colab.research.google.com/github/aashika-s/pesuio-forecasting/blob/main/pesuio_AS.ipynb\" target=\"_parent\"><img src=\"https://colab.research.google.com/assets/colab-badge.svg\" alt=\"Open In Colab\"/></a>"
      ]
    },
    {
      "cell_type": "code",
      "execution_count": null,
      "metadata": {
        "colab": {
          "base_uri": "https://localhost:8080/"
        },
        "id": "7E46xajZcuy6",
        "outputId": "3b711d72-2bb8-4950-fbec-e9adc82c6769"
      },
      "outputs": [
        {
          "output_type": "stream",
          "name": "stdout",
          "text": [
            "hello world\n"
          ]
        }
      ],
      "source": [
        "print(\"hello world\")"
      ]
    },
    {
      "cell_type": "code",
      "source": [
        "n=int(input(\"Enter a number\"))\n",
        "if n%2==0:\n",
        "  print(\"n is even\")\n",
        "else:\n",
        "  print(\"n is odd\")"
      ],
      "metadata": {
        "colab": {
          "base_uri": "https://localhost:8080/"
        },
        "id": "g_lFg4Y0czL2",
        "outputId": "0b5e2374-f285-4c38-df27-e949016b32a0"
      },
      "execution_count": null,
      "outputs": [
        {
          "output_type": "stream",
          "name": "stdout",
          "text": [
            "Enter a number12\n",
            "n is even\n"
          ]
        }
      ]
    },
    {
      "cell_type": "code",
      "source": [
        "# print all the vowels in the input string\n",
        "text=input(\"Enter the input :\") #abcde\n",
        "vowels=['a','e','i','o','u']\n",
        "for i in text:\n",
        "   if i in vowels:\n",
        "    print(i)"
      ],
      "metadata": {
        "colab": {
          "base_uri": "https://localhost:8080/"
        },
        "id": "XKYgRZEefwL_",
        "outputId": "02d19533-54ab-4ed9-c7a2-e2c90fe40008"
      },
      "execution_count": null,
      "outputs": [
        {
          "output_type": "stream",
          "name": "stdout",
          "text": [
            "Enter the input :abcde\n",
            "a\n",
            "e\n"
          ]
        }
      ]
    },
    {
      "cell_type": "code",
      "source": [
        "#list,[1,1,3,4,4,4,6,7,8,8,8]\n",
        "#tuple()\n",
        "#1:2\n",
        "#3:1\n",
        "#4:3\n",
        "#6:1\n",
        "#7:1\n",
        "#8:3\n",
        "#dictionary(key:value pairs)\n",
        "l=[1,1,3,4,4,4,6,7,8,8,8]\n",
        "d={}\n",
        "for i in l:\n",
        "  if i in d:\n",
        "    d[i]=d[i]+1\n",
        "  else:\n",
        "    d[i]=1\n",
        "print(d)"
      ],
      "metadata": {
        "colab": {
          "base_uri": "https://localhost:8080/"
        },
        "id": "e7cbrhD-hw6E",
        "outputId": "99207d47-fe6e-42f9-a4b3-2763718020c8"
      },
      "execution_count": null,
      "outputs": [
        {
          "output_type": "stream",
          "name": "stdout",
          "text": [
            "{1: 2, 3: 1, 4: 3, 6: 1, 7: 1, 8: 3}\n"
          ]
        }
      ]
    },
    {
      "cell_type": "code",
      "source": [
        "str=\"betty bought some butter but the butter was bitter,so betty bought some better butter\"\n",
        "list=str.split(\" \")\n",
        "myset=set(list)\n",
        "print(myset)"
      ],
      "metadata": {
        "colab": {
          "base_uri": "https://localhost:8080/"
        },
        "id": "R5N3UbKIk6sD",
        "outputId": "90266015-fb19-4b47-9b20-57453bc7c166"
      },
      "execution_count": null,
      "outputs": [
        {
          "output_type": "stream",
          "name": "stdout",
          "text": [
            "{'butter', 'was', 'but', 'bought', 'bitter,so', 'betty', 'the', 'some', 'better'}\n"
          ]
        }
      ]
    },
    {
      "cell_type": "code",
      "source": [
        "str=\"betty bought some butter but the butter was bitter, so betty bought some better butter\"\n",
        "list=str.split(\" \")\n",
        "d={}\n",
        "for i in list:\n",
        "  if i in d:\n",
        "    d[i]=d[i]+1\n",
        "  else:\n",
        "    d[i]=1\n",
        "print(d)\n"
      ],
      "metadata": {
        "colab": {
          "base_uri": "https://localhost:8080/"
        },
        "id": "t03UT8czmVMp",
        "outputId": "81cd7cf7-50f9-4f4e-ee56-bdc83b176def"
      },
      "execution_count": null,
      "outputs": [
        {
          "output_type": "stream",
          "name": "stdout",
          "text": [
            "{'betty': 2, 'bought': 2, 'some': 2, 'butter': 3, 'but': 1, 'the': 1, 'was': 1, 'bitter,': 1, 'so': 1, 'better': 1}\n"
          ]
        }
      ]
    },
    {
      "cell_type": "code",
      "source": [
        "name1=input(\"Enter name1 :\" )\n",
        "age1=int(input(\"Enter age1 :\"))\n",
        "name2=input(\"Enter name2 :\")\n",
        "age2=int(input(\"Enter age2 :\"))\n",
        "print(name1,age1,name2,age2)"
      ],
      "metadata": {
        "id": "3xoFhLepnLff",
        "colab": {
          "base_uri": "https://localhost:8080/"
        },
        "outputId": "37ad2a83-e25b-4e9c-82b9-c8bd2cebd459"
      },
      "execution_count": 2,
      "outputs": [
        {
          "output_type": "stream",
          "name": "stdout",
          "text": [
            "Enter name1 :sara\n",
            "Enter age1 :20\n",
            "Enter name2 :john\n",
            "Enter age2 :23\n",
            "sara 20 john 23\n"
          ]
        }
      ]
    },
    {
      "cell_type": "code",
      "source": [
        "n=int(input(\"Enter number 1 :\"))\n",
        "m=int(input(\"Enter number 2 :\"))\n",
        "l= int(input(\"Enter number 3 :\"))\n",
        "mean = (n+m+l)/3\n",
        "print(mean)\n"
      ],
      "metadata": {
        "colab": {
          "base_uri": "https://localhost:8080/"
        },
        "id": "WikNxX5Wbs2P",
        "outputId": "b7f75aaa-d5ed-4a68-b0ee-dfb1e08257fd"
      },
      "execution_count": 20,
      "outputs": [
        {
          "output_type": "stream",
          "name": "stdout",
          "text": [
            "Enter number 1 :10\n",
            "Enter number 2 :20\n",
            "Enter number 3 :30\n",
            "20.0\n"
          ]
        }
      ]
    },
    {
      "cell_type": "code",
      "source": [
        "l=int(input(\"Enter length of rectanglular box :\"))\n",
        "b=int(input(\"Enter breadth of rectangular box :\"))\n",
        "h=int(input(\"Enter height of rectangular box :\"))\n",
        "volume= l*b*h\n",
        "print(volume)"
      ],
      "metadata": {
        "colab": {
          "base_uri": "https://localhost:8080/"
        },
        "id": "r4zLWOikcl20",
        "outputId": "806cbceb-9ca5-4f71-d984-6cbd8549027f"
      },
      "execution_count": 21,
      "outputs": [
        {
          "output_type": "stream",
          "name": "stdout",
          "text": [
            "Enter length of rectanglular box :5\n",
            "Enter breadth of rectangular box :4\n",
            "Enter height of rectangular box :6\n",
            "120\n"
          ]
        }
      ]
    },
    {
      "cell_type": "code",
      "source": [
        "n=int(input(\"Enter a number :\"))\n",
        "sum=0\n",
        "while n>0:\n",
        "  sum=sum+n\n",
        "  n=n-1\n",
        "print(\"The sum of n natural numbers is :\",sum)\n",
        ""
      ],
      "metadata": {
        "colab": {
          "base_uri": "https://localhost:8080/"
        },
        "id": "y6YkWkiNevVg",
        "outputId": "fca3d5fa-cee3-4e51-9473-d26d39771e71"
      },
      "execution_count": 38,
      "outputs": [
        {
          "output_type": "stream",
          "name": "stdout",
          "text": [
            "Enter a number :20\n",
            "The sum of n natural numbers is : 210\n"
          ]
        }
      ]
    },
    {
      "cell_type": "code",
      "source": [
        "def factorial(x):\n",
        " if x==1:\n",
        "  return 1\n",
        " else:\n",
        "  return (x*factorial (x-1))\n",
        "\n",
        "n=10\n",
        "result = factorial(n)\n",
        "print(\"factorial of\",n,\":\",result)\n",
        "\n",
        "\n"
      ],
      "metadata": {
        "colab": {
          "base_uri": "https://localhost:8080/"
        },
        "id": "WCVx4x4HfRh5",
        "outputId": "15b5c898-612f-4bd5-ac12-7b6952f64bd1"
      },
      "execution_count": 60,
      "outputs": [
        {
          "output_type": "stream",
          "name": "stdout",
          "text": [
            "factorial of 10 : 3628800\n"
          ]
        }
      ]
    },
    {
      "cell_type": "code",
      "source": [
        "l=[10,20,30,10,40,20,40,50,60,30]\n",
        "d={}\n",
        "for i in l:\n",
        "  if i in d:\n",
        "    d[i]=d[i]+1\n",
        "  else:\n",
        "    d[i]=1\n",
        "print(d)"
      ],
      "metadata": {
        "id": "x0YEYcVfgQo-",
        "colab": {
          "base_uri": "https://localhost:8080/"
        },
        "outputId": "0ec72dbd-5a6c-48d3-9de6-bb609a754e4f"
      },
      "execution_count": 65,
      "outputs": [
        {
          "output_type": "stream",
          "name": "stdout",
          "text": [
            "{10: 2, 20: 2, 30: 2, 40: 2, 50: 1, 60: 1}\n"
          ]
        }
      ]
    },
    {
      "cell_type": "code",
      "source": [
        "n=5\n",
        "for i in range(0,n): #for rows\n",
        "  for j in range(0,i+1): #for columns\n",
        "   print(\"*\",end=\" \")\n",
        "  print()"
      ],
      "metadata": {
        "colab": {
          "base_uri": "https://localhost:8080/"
        },
        "id": "ize6ulNtzqvS",
        "outputId": "c980139b-92fc-44bc-a9b8-3cbc45583788"
      },
      "execution_count": 68,
      "outputs": [
        {
          "output_type": "stream",
          "name": "stdout",
          "text": [
            "* \n",
            "* * \n",
            "* * * \n",
            "* * * * \n",
            "* * * * * \n"
          ]
        }
      ]
    },
    {
      "cell_type": "code",
      "source": [],
      "metadata": {
        "id": "BjR8UMhF7Enw"
      },
      "execution_count": null,
      "outputs": []
    }
  ]
}