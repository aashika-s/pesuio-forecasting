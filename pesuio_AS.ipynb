{
  "nbformat": 4,
  "nbformat_minor": 0,
  "metadata": {
    "colab": {
      "provenance": [],
      "authorship_tag": "ABX9TyP6tmhsr79Lw+XAEVulkRFl",
      "include_colab_link": true
    },
    "kernelspec": {
      "name": "python3",
      "display_name": "Python 3"
    },
    "language_info": {
      "name": "python"
    }
  },
  "cells": [
    {
      "cell_type": "markdown",
      "metadata": {
        "id": "view-in-github",
        "colab_type": "text"
      },
      "source": [
        "<a href=\"https://colab.research.google.com/github/aashika-s/pesuio-forecasting/blob/main/pesuio_AS.ipynb\" target=\"_parent\"><img src=\"https://colab.research.google.com/assets/colab-badge.svg\" alt=\"Open In Colab\"/></a>"
      ]
    },
    {
      "cell_type": "code",
      "execution_count": null,
      "metadata": {
        "colab": {
          "base_uri": "https://localhost:8080/"
        },
        "id": "7E46xajZcuy6",
        "outputId": "3b711d72-2bb8-4950-fbec-e9adc82c6769"
      },
      "outputs": [
        {
          "output_type": "stream",
          "name": "stdout",
          "text": [
            "hello world\n"
          ]
        }
      ],
      "source": [
        "print(\"hello world\")"
      ]
    },
    {
      "cell_type": "code",
      "source": [
        "n=int(input(\"Enter a number\"))\n",
        "if n%2==0:\n",
        "  print(\"n is even\")\n",
        "else:\n",
        "  print(\"n is odd\")"
      ],
      "metadata": {
        "colab": {
          "base_uri": "https://localhost:8080/"
        },
        "id": "g_lFg4Y0czL2",
        "outputId": "0b5e2374-f285-4c38-df27-e949016b32a0"
      },
      "execution_count": null,
      "outputs": [
        {
          "output_type": "stream",
          "name": "stdout",
          "text": [
            "Enter a number12\n",
            "n is even\n"
          ]
        }
      ]
    },
    {
      "cell_type": "code",
      "source": [
        "# print all the vowels in the input string\n",
        "text=input(\"Enter the input :\") #abcde\n",
        "vowels=['a','e','i','o','u']\n",
        "for i in text:\n",
        "   if i in vowels:\n",
        "    print(i)"
      ],
      "metadata": {
        "colab": {
          "base_uri": "https://localhost:8080/"
        },
        "id": "XKYgRZEefwL_",
        "outputId": "02d19533-54ab-4ed9-c7a2-e2c90fe40008"
      },
      "execution_count": null,
      "outputs": [
        {
          "output_type": "stream",
          "name": "stdout",
          "text": [
            "Enter the input :abcde\n",
            "a\n",
            "e\n"
          ]
        }
      ]
    },
    {
      "cell_type": "code",
      "source": [
        "#list,[1,1,3,4,4,4,6,7,8,8,8]\n",
        "#tuple()\n",
        "#1:2\n",
        "#3:1\n",
        "#4:3\n",
        "#6:1\n",
        "#7:1\n",
        "#8:3\n",
        "#dictionary(key:value pairs)\n",
        "l=[1,1,3,4,4,4,6,7,8,8,8]\n",
        "d={}\n",
        "for i in l:\n",
        "  if i in d:\n",
        "    d[i]=d[i]+1\n",
        "  else:\n",
        "    d[i]=1\n",
        "print(d)"
      ],
      "metadata": {
        "colab": {
          "base_uri": "https://localhost:8080/"
        },
        "id": "e7cbrhD-hw6E",
        "outputId": "99207d47-fe6e-42f9-a4b3-2763718020c8"
      },
      "execution_count": null,
      "outputs": [
        {
          "output_type": "stream",
          "name": "stdout",
          "text": [
            "{1: 2, 3: 1, 4: 3, 6: 1, 7: 1, 8: 3}\n"
          ]
        }
      ]
    },
    {
      "cell_type": "code",
      "source": [
        "str=\"betty bought some butter but the butter was bitter,so betty bought some better butter\"\n",
        "list=str.split(\" \")\n",
        "myset=set(list)\n",
        "print(myset)"
      ],
      "metadata": {
        "colab": {
          "base_uri": "https://localhost:8080/"
        },
        "id": "R5N3UbKIk6sD",
        "outputId": "90266015-fb19-4b47-9b20-57453bc7c166"
      },
      "execution_count": null,
      "outputs": [
        {
          "output_type": "stream",
          "name": "stdout",
          "text": [
            "{'butter', 'was', 'but', 'bought', 'bitter,so', 'betty', 'the', 'some', 'better'}\n"
          ]
        }
      ]
    },
    {
      "cell_type": "code",
      "source": [
        "str=\"betty bought some butter but the butter was bitter, so betty bought some better butter\"\n",
        "list=str.split(\" \")\n",
        "d={}\n",
        "for i in list:\n",
        "  if i in d:\n",
        "    d[i]=d[i]+1\n",
        "  else:\n",
        "    d[i]=1\n",
        "print(d)\n"
      ],
      "metadata": {
        "colab": {
          "base_uri": "https://localhost:8080/"
        },
        "id": "t03UT8czmVMp",
        "outputId": "81cd7cf7-50f9-4f4e-ee56-bdc83b176def"
      },
      "execution_count": null,
      "outputs": [
        {
          "output_type": "stream",
          "name": "stdout",
          "text": [
            "{'betty': 2, 'bought': 2, 'some': 2, 'butter': 3, 'but': 1, 'the': 1, 'was': 1, 'bitter,': 1, 'so': 1, 'better': 1}\n"
          ]
        }
      ]
    },
    {
      "cell_type": "code",
      "source": [
        "n=[1,2,3,4,5,6,7,8,9,10]\n",
        "print(n)"
      ],
      "metadata": {
        "id": "3xoFhLepnLff",
        "colab": {
          "base_uri": "https://localhost:8080/"
        },
        "outputId": "4f0c6a1c-58b1-46ae-bc87-4950842c3ad9"
      },
      "execution_count": null,
      "outputs": [
        {
          "output_type": "stream",
          "name": "stdout",
          "text": [
            "[1, 2, 3, 4, 5, 6, 7, 8, 9, 10]\n"
          ]
        }
      ]
    },
    {
      "cell_type": "code",
      "source": [
        "i=1\n",
        "while i<=10:\n",
        " i=i+1\n",
        "print(i)"
      ],
      "metadata": {
        "colab": {
          "base_uri": "https://localhost:8080/"
        },
        "id": "WikNxX5Wbs2P",
        "outputId": "69c6b554-89b1-4d81-f739-8e106ace04d3"
      },
      "execution_count": null,
      "outputs": [
        {
          "output_type": "stream",
          "name": "stdout",
          "text": [
            "11\n"
          ]
        }
      ]
    },
    {
      "cell_type": "code",
      "source": [
        "i=1\n",
        "while i<10:\n",
        "  i=i+1\n",
        "  print(i)"
      ],
      "metadata": {
        "colab": {
          "base_uri": "https://localhost:8080/"
        },
        "id": "r4zLWOikcl20",
        "outputId": "6a3ad281-b1a1-45fa-9c57-2141df3f5afb"
      },
      "execution_count": null,
      "outputs": [
        {
          "output_type": "stream",
          "name": "stdout",
          "text": [
            "2\n",
            "3\n",
            "4\n",
            "5\n",
            "6\n",
            "7\n",
            "8\n",
            "9\n",
            "10\n"
          ]
        }
      ]
    },
    {
      "cell_type": "code",
      "source": [
        "str=\"betty bought some butter but the butter was bitter, so betty bought some better butter\"\n",
        "list=str.split(\" \")\n",
        "d={}\n",
        "for i in list:\n",
        "  if i in d:\n",
        "    d[i]=d[i]+1\n",
        "  else:\n",
        "    d[i]=1\n",
        "    print(d)"
      ],
      "metadata": {
        "colab": {
          "base_uri": "https://localhost:8080/"
        },
        "id": "y6YkWkiNevVg",
        "outputId": "cd70128d-f5a1-4481-d9b4-caccd3275d53"
      },
      "execution_count": null,
      "outputs": [
        {
          "output_type": "stream",
          "name": "stdout",
          "text": [
            "{'betty': 1}\n",
            "{'betty': 1, 'bought': 1}\n",
            "{'betty': 1, 'bought': 1, 'some': 1}\n",
            "{'betty': 1, 'bought': 1, 'some': 1, 'butter': 1}\n",
            "{'betty': 1, 'bought': 1, 'some': 1, 'butter': 1, 'but': 1}\n",
            "{'betty': 1, 'bought': 1, 'some': 1, 'butter': 1, 'but': 1, 'the': 1}\n",
            "{'betty': 1, 'bought': 1, 'some': 1, 'butter': 2, 'but': 1, 'the': 1, 'was': 1}\n",
            "{'betty': 1, 'bought': 1, 'some': 1, 'butter': 2, 'but': 1, 'the': 1, 'was': 1, 'bitter,': 1}\n",
            "{'betty': 1, 'bought': 1, 'some': 1, 'butter': 2, 'but': 1, 'the': 1, 'was': 1, 'bitter,': 1, 'so': 1}\n",
            "{'betty': 2, 'bought': 2, 'some': 2, 'butter': 2, 'but': 1, 'the': 1, 'was': 1, 'bitter,': 1, 'so': 1, 'better': 1}\n"
          ]
        }
      ]
    },
    {
      "cell_type": "code",
      "source": [
        "i=1\n",
        "print(i)\n",
        "while i<=21:\n",
        " i=i+2\n",
        " print(i)\n",
        "\n",
        "\n"
      ],
      "metadata": {
        "colab": {
          "base_uri": "https://localhost:8080/"
        },
        "id": "WCVx4x4HfRh5",
        "outputId": "f902e51a-f220-4dfe-d949-f0303ca77652"
      },
      "execution_count": null,
      "outputs": [
        {
          "output_type": "stream",
          "name": "stdout",
          "text": [
            "1\n",
            "3\n",
            "5\n",
            "7\n",
            "9\n",
            "11\n",
            "13\n",
            "15\n",
            "17\n",
            "19\n",
            "21\n",
            "23\n"
          ]
        }
      ]
    },
    {
      "cell_type": "code",
      "source": [],
      "metadata": {
        "id": "x0YEYcVfgQo-"
      },
      "execution_count": null,
      "outputs": []
    }
  ]
}